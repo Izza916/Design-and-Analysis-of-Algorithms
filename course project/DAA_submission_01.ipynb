{
  "nbformat": 4,
  "nbformat_minor": 0,
  "metadata": {
    "colab": {
      "provenance": []
    },
    "kernelspec": {
      "name": "python3",
      "display_name": "Python 3"
    },
    "language_info": {
      "name": "python"
    }
  },
  "cells": [
    {
      "cell_type": "markdown",
      "source": [
        "# QUESTION NO. 1 : (22K-4120 AND 22K-4077)"
      ],
      "metadata": {
        "id": "6ebAP6bRhpVU"
      }
    },
    {
      "cell_type": "markdown",
      "source": [
        "(a) Finding the Largest and Smallest Elements in an Array"
      ],
      "metadata": {
        "id": "gR686kbbcWl7"
      }
    },
    {
      "cell_type": "code",
      "execution_count": null,
      "metadata": {
        "colab": {
          "base_uri": "https://localhost:8080/"
        },
        "id": "-8tJojSvcOYf",
        "outputId": "0dbb5581-52c7-49fb-dc8b-0034f2a1382d"
      },
      "outputs": [
        {
          "output_type": "stream",
          "name": "stdout",
          "text": [
            "Maximum: 19, Minimum: 1\n"
          ]
        }
      ],
      "source": [
        "def find_max_min(arr, low, high):\n",
        "    if low == high:\n",
        "        return arr[low], arr[low]\n",
        "    elif high == low + 1:\n",
        "        if arr[low] > arr[high]:\n",
        "            return arr[low], arr[high]\n",
        "        else:\n",
        "            return arr[high], arr[low]\n",
        "    mid = (low + high) // 2\n",
        "    max1, min1 = find_max_min(arr, low, mid)\n",
        "    max2, min2 = find_max_min(arr, mid + 1, high)\n",
        "    return max(max1, max2), min(min1, min2)\n",
        "arr = [12, 3, 5, 7, 19, 1, 6, 8, 13, 11]\n",
        "n = len(arr)\n",
        "max_val, min_val = find_max_min(arr, 0, n - 1)\n",
        "print(f\"Maximum: {max_val}, Minimum: {min_val}\")"
      ]
    },
    {
      "cell_type": "markdown",
      "source": [
        "(b) Divide and Conquer Exponentiation"
      ],
      "metadata": {
        "id": "yAN7cYQIctFA"
      }
    },
    {
      "cell_type": "code",
      "source": [
        "def power(a, n):\n",
        "    if n == 0:\n",
        "        return 1\n",
        "    if n == 1:\n",
        "        return a\n",
        "    if n % 2 == 0:\n",
        "        half_power = power(a, n // 2)\n",
        "        return half_power * half_power\n",
        "    else:\n",
        "        half_power = power(a, (n - 1) // 2)\n",
        "        return a * half_power * half_power\n",
        "a = 2\n",
        "n = 10\n",
        "result = power(a, n)\n",
        "print(f\"{a}^{n} = {result}\")"
      ],
      "metadata": {
        "colab": {
          "base_uri": "https://localhost:8080/"
        },
        "id": "-Oufg6WQcwFG",
        "outputId": "6e41157e-c054-4a9e-f97c-602c70cfd7d5"
      },
      "execution_count": null,
      "outputs": [
        {
          "output_type": "stream",
          "name": "stdout",
          "text": [
            "2^10 = 1024\n"
          ]
        }
      ]
    },
    {
      "cell_type": "markdown",
      "source": [
        "(c) Counting Inversions in an Array"
      ],
      "metadata": {
        "id": "2QlptVotc9g9"
      }
    },
    {
      "cell_type": "code",
      "source": [
        "def merge_and_count(arr, temp_arr, left, mid, right):\n",
        "    i = left\n",
        "    j = mid + 1\n",
        "    k = left\n",
        "    inv_count = 0\n",
        "    while i <= mid and j <= right:\n",
        "        if arr[i] <= arr[j]:\n",
        "            temp_arr[k] = arr[i]\n",
        "            i += 1\n",
        "        else:\n",
        "            temp_arr[k] = arr[j]\n",
        "            inv_count += (mid-i + 1)\n",
        "            j += 1\n",
        "        k += 1\n",
        "    while i <= mid:\n",
        "        temp_arr[k] = arr[i]\n",
        "        i += 1\n",
        "        k += 1\n",
        "    while j <= right:\n",
        "        temp_arr[k] = arr[j]\n",
        "        j += 1\n",
        "        k += 1\n",
        "    for i in range(left, right + 1):\n",
        "        arr[i] = temp_arr[i]\n",
        "    return inv_count\n",
        "\n",
        "def merge_sort_and_count(arr, temp_arr, left, right):\n",
        "    inv_count = 0\n",
        "    if left < right:\n",
        "        mid = (left + right) // 2\n",
        "        inv_count += merge_sort_and_count(arr, temp_arr, left, mid)\n",
        "        inv_count += merge_sort_and_count(arr, temp_arr, mid + 1, right)\n",
        "        inv_count += merge_and_count(arr, temp_arr, left, mid, right)\n",
        "    return inv_count\n",
        "arr = [8, 4, 2, 1]\n",
        "n = len(arr)\n",
        "temp_arr = [0] * n\n",
        "result = merge_sort_and_count(arr, temp_arr, 0, n - 1)\n",
        "print(f\"Number of inversions are {result}\")"
      ],
      "metadata": {
        "colab": {
          "base_uri": "https://localhost:8080/"
        },
        "id": "oTQqa6JadAYK",
        "outputId": "316f0679-0ab3-4d27-a051-0689ce6bb287"
      },
      "execution_count": null,
      "outputs": [
        {
          "output_type": "stream",
          "name": "stdout",
          "text": [
            "Number of inversions are 6\n"
          ]
        }
      ]
    },
    {
      "cell_type": "markdown",
      "source": [
        "(d) Quicksort Complexity Analysis"
      ],
      "metadata": {
        "id": "mRwnU5T3ddzj"
      }
    },
    {
      "cell_type": "markdown",
      "source": [
        "Worst-case complexity:\n",
        "occurs when the pivot chosen is the smallest or largest element, leading to highly unbalanced partitions.\n",
        "\n",
        "Best-case complexity:\n",
        "occurs when the pivot divides the array into two equal halves at each step."
      ],
      "metadata": {
        "id": "D88dytR7dnID"
      }
    },
    {
      "cell_type": "markdown",
      "source": [
        "(e) Closest Pair Problem using Divide and Conquer"
      ],
      "metadata": {
        "id": "mhAsw_ANdo-I"
      }
    },
    {
      "cell_type": "code",
      "source": [
        "import math\n",
        "def dist(p1, p2):\n",
        "    return math.sqrt((p1[0] - p2[0]) ** 2 + (p1[1] - p2[1]) ** 2)\n",
        "def strip_closest(strip, size, d):\n",
        "    min_dist = d\n",
        "    for i in range(size):\n",
        "        for j in range(i + 1, size):\n",
        "            if (strip[j][1] - strip[i][1]) < min_dist:\n",
        "                min_dist = dist(strip[i], strip[j])\n",
        "    return min_dist\n",
        "def closest_pair(points, n):\n",
        "    if n <= 3:\n",
        "        min_dist = float('inf')\n",
        "        for i in range(n):\n",
        "            for j in range(i + 1, n):\n",
        "                if dist(points[i], points[j]) < min_dist:\n",
        "                    min_dist = dist(points[i], points[j])\n",
        "        return min_dist\n",
        "    mid = n // 2\n",
        "    mid_point = points[mid]\n",
        "    dl = closest_pair(points[:mid], mid)\n",
        "    dr = closest_pair(points[mid:], n - mid)\n",
        "    d = min(dl, dr)\n",
        "    strip = []\n",
        "    for i in range(n):\n",
        "        if abs(points[i][0] - mid_point[0]) < d:\n",
        "            strip.append(points[i])\n",
        "    return min(d, strip_closest(strip, len(strip), d))\n",
        "points = [(2, 3), (12, 30), (40, 50), (5, 1), (12, 10), (3, 4)]\n",
        "n = len(points)\n",
        "points.sort(key=lambda x: x[0])\n",
        "min_distance = closest_pair(points, n)\n",
        "print(f\"The smallest distance is {min_distance}\")"
      ],
      "metadata": {
        "colab": {
          "base_uri": "https://localhost:8080/"
        },
        "id": "5NIYPquYd0nM",
        "outputId": "0b9bfc86-3579-4a63-e5b6-1301a0bba5b9"
      },
      "execution_count": null,
      "outputs": [
        {
          "output_type": "stream",
          "name": "stdout",
          "text": [
            "The smallest distance is 1.4142135623730951\n"
          ]
        }
      ]
    },
    {
      "cell_type": "markdown",
      "source": [
        "f) Finding the Peak Element in a Unimodal Array"
      ],
      "metadata": {
        "id": "vf0b316weIIb"
      }
    },
    {
      "cell_type": "markdown",
      "source": [
        "We are tasked with finding the peak element in an array that first increases and then decreases. The task must be done in, so a binary search-like approach is needed\n",
        "Algorithm:\n",
        "\n",
        "1. We use the divide-and-conquer method, where we check the middle element and its\n",
        "neighbors to decide whether to search the left or right half.\n",
        "\n",
        "2. If the middle element is greater than its neighbors, it is the peak.\n",
        "\n",
        "3. Otherwise, continue the search in the direction of the greater neighbor."
      ],
      "metadata": {
        "id": "P0deVqHSeLrd"
      }
    },
    {
      "cell_type": "code",
      "source": [
        "def find_peak(arr):\n",
        "    def peak_util(low, high):\n",
        "        mid = (low + high) // 2\n",
        "        if (mid == 0 or arr[mid - 1] <= arr[mid]) and (mid == len(arr) - 1 or arr[mid + 1] <= arr[mid]):\n",
        "            return mid\n",
        "        elif mid > 0 and arr[mid - 1] > arr[mid]:\n",
        "            return peak_util(low, mid - 1)\n",
        "        else:\n",
        "            return peak_util(mid + 1, high)\n",
        "    return peak_util(0, len(arr) - 1)\n",
        "\n",
        "arr = [1, 3, 7, 8, 6, 4, 2]\n",
        "peak_index = find_peak(arr)\n",
        "print(f\"Peak element is at index {peak_index} with value {arr[peak_index]}\")"
      ],
      "metadata": {
        "colab": {
          "base_uri": "https://localhost:8080/"
        },
        "id": "c9bsE5tgeWkr",
        "outputId": "fa370610-43bc-41b5-e87c-937eb742f390"
      },
      "execution_count": null,
      "outputs": [
        {
          "output_type": "stream",
          "name": "stdout",
          "text": [
            "Peak element is at index 3 with value 8\n"
          ]
        }
      ]
    },
    {
      "cell_type": "markdown",
      "source": [
        "g) Maximum Profit from Stock Prices"
      ],
      "metadata": {
        "id": "pyP4tT4kepjx"
      }
    },
    {
      "cell_type": "markdown",
      "source": [
        "We need to find the best day to buy and sell a stock over a period to maximize profit. The brute force solution has complexity, but using a divide-and-conquer approach, we can solve this in Algorithm:\n",
        "\n",
        "1. Divide the array into two halves and recursively find the maximum profit in each half.\n",
        "\n",
        "2. Compute the profit from buying in the left half and selling in the right half.\n",
        "\n",
        "3. The result will be the maximum of these three options."
      ],
      "metadata": {
        "id": "WdHYjle8euP_"
      }
    },
    {
      "cell_type": "code",
      "source": [
        "def max_profit(prices):\n",
        "    def find_max_profit(low, high):\n",
        "        if low == high:\n",
        "            return 0, low, high\n",
        "        mid = (low + high) // 2\n",
        "        left_profit, left_buy, left_sell = find_max_profit(low, mid)\n",
        "        right_profit, right_buy, right_sell = find_max_profit(mid + 1, high)\n",
        "        min_left = min(prices[low:mid + 1])\n",
        "        max_right = max(prices[mid + 1:high + 1])\n",
        "        cross_profit = max_right - min_left\n",
        "        if left_profit >= right_profit and left_profit >= cross_profit:\n",
        "            return left_profit, left_buy, left_sell\n",
        "        elif right_profit >= left_profit and right_profit >= cross_profit:\n",
        "            return right_profit, right_buy, right_sell\n",
        "        else:\n",
        "            buy_day = prices.index(min_left)\n",
        "            sell_day = prices.index(max_right)\n",
        "            return cross_profit, buy_day, sell_day\n",
        "    profit, buy_day, sell_day = find_max_profit(0, len(prices) - 1)\n",
        "    return profit, buy_day, sell_day\n",
        "\n",
        "prices = [9, 1, 5, 6, 3, 8, 4]\n",
        "profit, buy_day, sell_day = max_profit(prices)\n",
        "print(f\"Buy on day {buy_day + 1}, sell on day {sell_day + 1}, maximum profit is {profit}\")"
      ],
      "metadata": {
        "colab": {
          "base_uri": "https://localhost:8080/"
        },
        "id": "S_gZdOqAeqSY",
        "outputId": "29f4fa47-6b9f-4568-fab4-a196e0787867"
      },
      "execution_count": null,
      "outputs": [
        {
          "output_type": "stream",
          "name": "stdout",
          "text": [
            "Buy on day 2, sell on day 6, maximum profit is 7\n"
          ]
        }
      ]
    },
    {
      "cell_type": "markdown",
      "source": [
        "h) Three Problems from Exercises"
      ],
      "metadata": {
        "id": "qXlSzFGJfI03"
      }
    },
    {
      "cell_type": "markdown",
      "source": [
        "1. Finding the Median of Two Sorted Arrays with O(log n) Queries.\n",
        "\n",
        "We are given two sorted arrays, and we need to find the median (the th smallest element in\n",
        "the combined sorted array).\n",
        "\n",
        "Algorithm:\n",
        "\n",
        "1. Perform binary search on the smaller array.\n",
        "\n",
        "2. Partition the arrays such that the left side of both partitions contains the smallest\n",
        "elements."
      ],
      "metadata": {
        "id": "h97zeIg-fJeE"
      }
    },
    {
      "cell_type": "code",
      "source": [
        "def find_median_sorted_arrays(arr1, arr2):\n",
        "    if len(arr1) > len(arr2):\n",
        "        arr1, arr2 = arr2, arr1\n",
        "    x, y = len(arr1), len(arr2)\n",
        "    low, high = 0, x\n",
        "    while low <= high:\n",
        "        partitionX = (low + high) // 2\n",
        "        partitionY = (x + y + 1) // 2 - partitionX\n",
        "        maxX = float('-inf') if partitionX == 0 else arr1[partitionX - 1]\n",
        "        minX = float('inf') if partitionX == x else arr1[partitionX]\n",
        "        maxY = float('-inf') if partitionY == 0 else arr2[partitionY - 1]\n",
        "        minY = float('inf') if partitionY == y else arr2[partitionY]\n",
        "        if maxX <= minY and maxY <= minX:\n",
        "            if (x + y) % 2 == 0:\n",
        "                return (max(maxX, maxY) + min(minX, minY)) / 2\n",
        "            else:\n",
        "                return max(maxX, maxY)\n",
        "        elif maxX > minY:\n",
        "            high = partitionX - 1\n",
        "        else:\n",
        "            low = partitionX + 1\n",
        "\n",
        "arr1 = [1, 3, 8]\n",
        "arr2 = [7, 9, 10, 11]\n",
        "median = find_median_sorted_arrays(arr1, arr2)\n",
        "print(f\"The median is {median}\")"
      ],
      "metadata": {
        "colab": {
          "base_uri": "https://localhost:8080/"
        },
        "id": "SJNYsQujfg8c",
        "outputId": "58fb50cf-9792-40fb-94ff-5181375c5b65"
      },
      "execution_count": null,
      "outputs": [
        {
          "output_type": "stream",
          "name": "stdout",
          "text": [
            "The median is 8\n"
          ]
        }
      ]
    },
    {
      "cell_type": "markdown",
      "source": [
        "2. Counting Significant Inversions\n",
        "\n",
        "We are asked to count the number of significant inversions."
      ],
      "metadata": {
        "id": "fOIvdb15fyQy"
      }
    },
    {
      "cell_type": "code",
      "source": [
        "def merge_and_count(arr, temp_arr, left, mid, right):\n",
        "    i = left\n",
        "    j = mid + 1\n",
        "    k = left\n",
        "    inv_count = 0\n",
        "    while i <= mid and j <= right:\n",
        "        if arr[i] <= 2 * arr[j]:\n",
        "            temp_arr[k] = arr[i]\n",
        "            i += 1\n",
        "        else:\n",
        "            temp_arr[k] = arr[j]\n",
        "            inv_count += (mid-i + 1)\n",
        "            j += 1\n",
        "        k += 1\n",
        "    while i <= mid:\n",
        "        temp_arr[k] = arr[i]\n",
        "        i += 1\n",
        "        k += 1\n",
        "    while j <= right:\n",
        "        temp_arr[k] = arr[j]\n",
        "        j += 1\n",
        "        k += 1\n",
        "    for i in range(left, right + 1):\n",
        "        arr[i] = temp_arr[i]\n",
        "    return inv_count\n",
        "def merge_sort_and_count(arr, temp_arr, left, right):\n",
        "    inv_count = 0\n",
        "    if left < right:\n",
        "        mid = (left + right) // 2\n",
        "        inv_count += merge_sort_and_count(arr, temp_arr, left, mid)\n",
        "        inv_count += merge_sort_and_count(arr, temp_arr, mid + 1, right)\n",
        "        inv_count += merge_and_count(arr, temp_arr, left, mid, right)\n",
        "    return inv_count\n",
        "\n",
        "arr = [1, 20, 6, 4, 5]\n",
        "temp_arr = [0]*len(arr)\n",
        "print(f\"Number of significant inversions are {merge_sort_and_count(arr, temp_arr, 0, len(arr)-1)}\")"
      ],
      "metadata": {
        "colab": {
          "base_uri": "https://localhost:8080/"
        },
        "id": "hud_LJ55f5Sy",
        "outputId": "019be602-2ab7-44a1-dd46-e2303ce9124d"
      },
      "execution_count": null,
      "outputs": [
        {
          "output_type": "stream",
          "name": "stdout",
          "text": [
            "Number of significant inversions are 3\n"
          ]
        }
      ]
    },
    {
      "cell_type": "markdown",
      "source": [
        "3. Finding Majority Element with Equivalence Tester"
      ],
      "metadata": {
        "id": "cukKzhG4hB72"
      }
    },
    {
      "cell_type": "markdown",
      "source": [
        "In this problem, we are tasked with finding if there exists a majority element using queries."
      ],
      "metadata": {
        "id": "bIhOOqD-hKxD"
      }
    },
    {
      "cell_type": "code",
      "source": [
        "def majority_element(arr):\n",
        "    def is_majority(arr, candidate):\n",
        "        count = 0\n",
        "        for num in arr:\n",
        "            if num == candidate:\n",
        "                count += 1\n",
        "        return count > len(arr) // 2\n",
        "    def find_candidate(arr):\n",
        "        count = 0\n",
        "        candidate = None\n",
        "        for num in arr:\n",
        "            if count == 0:\n",
        "                candidate = num\n",
        "            count += (1 if num == candidate else -1)\n",
        "        return candidate\n",
        "    candidate = find_candidate(arr)\n",
        "    if is_majority(arr, candidate):\n",
        "        return candidate\n",
        "    else:\n",
        "        return None\n",
        "\n",
        "arr = [2, 2, 1, 1, 2, 2]\n",
        "print(f\"Majority element is {majority_element(arr)}\")"
      ],
      "metadata": {
        "colab": {
          "base_uri": "https://localhost:8080/"
        },
        "id": "fR_68uT_hFwf",
        "outputId": "7b477985-b631-4271-ae12-d55fadc1523e"
      },
      "execution_count": null,
      "outputs": [
        {
          "output_type": "stream",
          "name": "stdout",
          "text": [
            "Majority element is 2\n"
          ]
        }
      ]
    }
  ]
}